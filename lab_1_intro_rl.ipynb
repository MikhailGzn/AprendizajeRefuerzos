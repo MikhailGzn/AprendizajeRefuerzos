{
  "cells": [
    {
      "cell_type": "markdown",
      "metadata": {
        "id": "4spynKMzGS4t"
      },
      "source": [
        "# Notebook 1: Introducción al aprendizaje por refuerzos\n",
        "\n",
        "Curso Aprendizaje por Refuerzos, Diplomatura en Ciencia de Datos, Aprendizaje Automático y sus Aplicaciones\n",
        "\n",
        "FaMAF, 2023"
      ]
    },
    {
      "cell_type": "markdown",
      "metadata": {
        "id": "2mlW-PAFGS4z"
      },
      "source": [
        "## Introducción\n",
        "\n",
        "En el siguiente notebook se muestra cómo ejecutar agentes de aprendizaje por refuerzos, los cuáles son necesarios para realizar este Lab."
      ]
    },
    {
      "cell_type": "markdown",
      "metadata": {
        "id": "ZlIwTm_eyO0T"
      },
      "source": [
        "### Repaso rápido\n"
      ]
    },
    {
      "cell_type": "markdown",
      "metadata": {
        "tags": [],
        "id": "87Luqo5UyO0T"
      },
      "source": [
        "\n",
        "* Recompensa: señal $r$ recibida desde el entorno que recompensa o castiga el agente según su desempeño con respecto al objetivo de la tarea.\n",
        "\n",
        "* Valor: función $v_\\pi (s)$ que establece cuánto el agente espera percibir de recompensa al seguir la política $\\pi$ partiendo desde el estado $s$. También se la suele expresar como $Q_\\pi(s,a)$, indicando cuánto el agente espera percibir siguiendo la política $\\pi$ partiendo desde el estado $s$ y siguiendo la acción $a$.\n",
        "\n",
        "* Política: función $\\pi(s) \\to a$ que mapea un estado a una acción. Se suele expresar como probabilidad de elegir la acción $\\pi(a \\mid s)$. La política $\\epsilon$-greedy, en donde $\\epsilon$ es la probabilidad de exploración (normalmente menor que la probabilidad de explotación) está dada por $\\pi(a \\mid s) = 1 - \\epsilon$ si $a$ es la mejor acción, caso contrario pasa a estar dada por $\\pi(a \\mid s) = \\epsilon$.\n",
        "\n",
        "Por otra parte, en la política Softmax, no se busca la acción con máxima probabilidad sino que se computa la probabilidad de cada una mediante la función Softmax y se realiza un sorteo entre ellas pesado por la misma. Así, para cada acción $a$, $$\\pi(a \\mid s) = \\frac{e^{Q(s,a)/\\tau}}{\\sum_{\\widetilde{a} \\in A}e^{Q(s,\\widetilde{a})/\\tau}}$$"
      ]
    },
    {
      "cell_type": "markdown",
      "metadata": {
        "tags": [],
        "id": "V65VukjpyO0T"
      },
      "source": [
        "En este notebook vemos dos algoritmos para actualizar la función de valor (y, por lo tanto, la política de selección de acciones):\n",
        "\n",
        "* Actualización por SARSA (on-policy).\n",
        "\n",
        "$$Q(s,a) \\gets Q(s,a) + \\alpha (r + \\gamma Q(s',a') - Q(s,a))$$\n",
        "\n",
        "Algoritmo completo (a modo de referencia):\n",
        "\n",
        "![Algoritmo SARSA](https://github.com/DiploDatos/AprendizajePorRefuerzos/blob/master/images/sarsa.png?raw=1)\n"
      ]
    },
    {
      "cell_type": "markdown",
      "metadata": {
        "tags": [],
        "id": "iHP2ShFqyO0U"
      },
      "source": [
        "* Actualización por Q-Learning (off-policy)\n",
        "\n",
        "$$Q(s,a) \\gets Q(s,a) + \\alpha (r + \\gamma \\arg\\max_{a'} Q(s',a') - Q(s,a))$$\n",
        "\n",
        "Algoritmo completo (a modo de referencia):\n",
        "\n",
        "![Algoritmo Q-Learning](https://github.com/DiploDatos/AprendizajePorRefuerzos/blob/master/images/q_learning.png?raw=1)\n",
        "\n",
        "Fuente de las imágenes: capítulo 6 de [Reinforcement Learning: An Introduction](http://www.incompleteideas.net/book/the-book.html)."
      ]
    },
    {
      "cell_type": "markdown",
      "metadata": {
        "id": "a7BO38B6GS4z"
      },
      "source": [
        "## Librería a usar: Librería OpenAI Gym\n",
        "\n",
        "[OpenAI Gym](https://gym.openai.com/) (Brockman et. al., 2016) es una librería de OpenAI que ofrece entornos y una interfaz estándar con la cuál probar nuestros agentes. Su objetivo es proveer benchmarks unificados para ver el desempeño de algoritmos en el entorno y así poder saber con facilidad cómo es su desempeño comparado con los demás. Parte de la siguiente sección está basada en la [documentación oficial de OpenAI](https://gym.openai.com/docs/)."
      ]
    },
    {
      "cell_type": "markdown",
      "metadata": {
        "id": "YY7NVUdpGS40"
      },
      "source": [
        "La interfaz principal de los ambientes de gym es la interfaz Env. La misma posee cinco métodos principales:\n",
        "\n",
        "* ```reset(self, seed)``` : Reinicia el estado del entorno, a su estado inicial, devolviendo una observación de dicho estado. Opcionalmente, establece la semilla aleatoria del generador de números aleatorios del presente entorno.\n",
        "\n",
        "* ```step(self, action)``` : \"Avanza\" un timestep del ambiente. Devuelve: ```observation, reward, terminated, truncated, info```.\n",
        "\n",
        "* ```render(self)``` : Muestra en pantalla una parte del ambiente.\n",
        "\n",
        "* ```close(self)``` : Finaliza con la instancia del agente.\n",
        "\n",
        "\n",
        "Por otra parte, cada entorno posee los siguientes tres atributos principales:\n",
        "\n",
        "* ```action_space``` : El objeto de tipo Space correspondiente al espacio de acciones válidas.\n",
        "\n",
        "* ```observation_space``` : El objeto de tipo Space correspondiente a todos los rangos posibles de observaciones.\n",
        "\n",
        "* ```reward_range``` : Tupla que contiene los valores mínimo y máximo de recompensa posible."
      ]
    },
    {
      "cell_type": "markdown",
      "metadata": {
        "id": "TTMpnXzcGS40"
      },
      "source": [
        "Algunas de las ejecuciones contienen videos. Para poder verlos se necesita previamente instalar la librería ffmpeg; para instalarla desde Linux ejecutar en consola\n",
        "\n",
        "```apt-get install ffmpeg```\n",
        "\n",
        "desde Mac, reemplazar *apt-get* por *brew*\n",
        "\n",
        "desde Windows, descargarla desde\n",
        "\n",
        "[https://ffmpeg.org/download.html](https://ffmpeg.org/download.html)\n",
        "\n",
        "(Nota: las animaciones son a modo ilustrativo, si no se desea instalar la librería se puede directamente eliminar la línea de código donde se llama al método ``env.render(mode='human')``)"
      ]
    },
    {
      "cell_type": "markdown",
      "metadata": {
        "id": "TZDT_O0UGS40"
      },
      "source": [
        "Código básico de importación y funciones de graficación (no modificar)"
      ]
    },
    {
      "cell_type": "code",
      "execution_count": 385,
      "metadata": {
        "hideCode": true,
        "id": "5jUjOuhYGS42",
        "tags": [
          "hide-cell"
        ]
      },
      "outputs": [],
      "source": [
        "# @title Código básico importacion y utilerías (no modificar)\n",
        "\n",
        "import itertools\n",
        "from typing import Any, Callable, Tuple\n",
        "\n",
        "import numpy as np\n",
        "import matplotlib.pyplot as plt\n",
        "\n",
        "\n",
        "def plot_reward_per_episode(reward_ep) -> None:\n",
        "    episode_rewards = np.array(reward_ep)\n",
        "\n",
        "    # se suaviza la curva de convergencia\n",
        "    episode_number = np.linspace(\n",
        "        1, len(episode_rewards) + 1, len(episode_rewards) + 1)\n",
        "    acumulated_rewards = np.cumsum(episode_rewards)\n",
        "\n",
        "    reward_per_episode = [\n",
        "        acumulated_rewards[i] / episode_number[i]\n",
        "        for i in range(len(acumulated_rewards))\n",
        "    ]\n",
        "\n",
        "    plt.plot(reward_per_episode)\n",
        "    plt.title(\"Recompensa acumulada por episodio\")\n",
        "    plt.show()\n",
        "\n",
        "\n",
        "def plot_steps_per_episode(timesteps_ep) -> None:\n",
        "    # se muestra la curva de aprendizaje de los pasos por episodio\n",
        "    episode_steps = np.array(timesteps_ep)\n",
        "    plt.plot(np.array(range(0, len(episode_steps))), episode_steps)\n",
        "    plt.title(\"Pasos (timesteps) por episodio\")\n",
        "    plt.show()\n",
        "\n",
        "\n",
        "def plot_steps_per_episode_smooth(timesteps_ep) -> None:\n",
        "    episode_steps = np.array(timesteps_ep)\n",
        "\n",
        "    # se suaviza la curva de aprendizaje\n",
        "    episode_number = np.linspace(\n",
        "        1, len(episode_steps) + 1, len(episode_steps) + 1)\n",
        "    acumulated_steps = np.cumsum(episode_steps)\n",
        "\n",
        "    steps_per_episode = [\n",
        "        acumulated_steps[i] / episode_number[i] for i in range(\n",
        "            len(acumulated_steps))\n",
        "    ]\n",
        "\n",
        "    plt.plot(steps_per_episode)\n",
        "    plt.title(\"Pasos (timesteps) acumulados por episodio\")\n",
        "    plt.show()\n",
        "\n",
        "\n",
        "def draw_value_matrix(q) -> None:\n",
        "    n_rows = 4\n",
        "    n_columns = 12\n",
        "    n_actions = 4\n",
        "\n",
        "    # se procede con los cálculos previos a la graficación de la matriz de valor\n",
        "    q_value_matrix = np.empty((n_rows, n_columns))\n",
        "    for row in range(n_rows):\n",
        "        for column in range(n_columns):\n",
        "            state_values = []\n",
        "\n",
        "            for action in range(n_actions):\n",
        "                state_values.append(\n",
        "                    q.get((row * n_columns + column, action), -100))\n",
        "\n",
        "            maximum_value = max(\n",
        "                state_values\n",
        "            )  # determinamos la acción que arroja máximo valor\n",
        "\n",
        "            q_value_matrix[row, column] = maximum_value\n",
        "\n",
        "    # el valor del estado objetivo se asigna en -1 (reward recibido al llegar)\n",
        "    # para que se coloree de forma apropiada\n",
        "    q_value_matrix[3, 11] = -1\n",
        "\n",
        "    # se grafica la matriz de valor\n",
        "    plt.imshow(q_value_matrix, cmap=plt.cm.RdYlGn)\n",
        "    plt.tight_layout()\n",
        "    plt.colorbar()\n",
        "\n",
        "    for row, column in itertools.product(\n",
        "        range(q_value_matrix.shape[0]), range(q_value_matrix.shape[1])\n",
        "    ):\n",
        "        left_action = q.get((row * n_columns + column, 3), -1000)\n",
        "        down_action = q.get((row * n_columns + column, 2), -1000)\n",
        "        right_action = q.get((row * n_columns + column, 1), -1000)\n",
        "        up_action = q.get((row * n_columns + column, 0), -1000)\n",
        "\n",
        "        arrow_direction = \"D\"\n",
        "        best_action = down_action\n",
        "\n",
        "        if best_action < right_action:\n",
        "            arrow_direction = \"R\"\n",
        "            best_action = right_action\n",
        "        if best_action < left_action:\n",
        "            arrow_direction = \"L\"\n",
        "            best_action = left_action\n",
        "        if best_action < up_action:\n",
        "            arrow_direction = \"U\"\n",
        "            best_action = up_action\n",
        "        if best_action == -1:\n",
        "            arrow_direction = \"\"\n",
        "\n",
        "        # notar que column, row están invertidos en orden en la línea de abajo\n",
        "        # porque representan a x,y del plot\n",
        "        plt.text(column, row, arrow_direction, horizontalalignment=\"center\")\n",
        "\n",
        "    plt.xticks([])\n",
        "    plt.yticks([])\n",
        "    plt.show()\n",
        "\n",
        "    print(\"\\n Matriz de mejor acción-valor (en números): \\n\\n\", q_value_matrix)"
      ]
    },
    {
      "cell_type": "markdown",
      "metadata": {
        "id": "yJ1y2VTGGS42"
      },
      "source": [
        "Ejemplo: agente CartPole"
      ]
    },
    {
      "cell_type": "code",
      "execution_count": 386,
      "metadata": {
        "id": "YPkxgtSiGS43",
        "outputId": "875a671b-a2c1-400a-db55-1421bc66c1ec",
        "colab": {
          "base_uri": "https://localhost:8080/"
        }
      },
      "outputs": [
        {
          "output_type": "stream",
          "name": "stdout",
          "text": [
            "Requirement already satisfied: gymnasium in /usr/local/lib/python3.10/dist-packages (1.0.0)\n",
            "Requirement already satisfied: numpy>=1.21.0 in /usr/local/lib/python3.10/dist-packages (from gymnasium) (1.26.4)\n",
            "Requirement already satisfied: cloudpickle>=1.2.0 in /usr/local/lib/python3.10/dist-packages (from gymnasium) (3.1.0)\n",
            "Requirement already satisfied: typing-extensions>=4.3.0 in /usr/local/lib/python3.10/dist-packages (from gymnasium) (4.12.2)\n",
            "Requirement already satisfied: farama-notifications>=0.0.1 in /usr/local/lib/python3.10/dist-packages (from gymnasium) (0.0.4)\n"
          ]
        }
      ],
      "source": [
        "from IPython.display import clear_output\n",
        "\n",
        "try:\n",
        "  import google.colab\n",
        "  IN_COLAB = True\n",
        "\n",
        "  !pip install gymnasium\n",
        "\n",
        "except:\n",
        "  IN_COLAB = False\n",
        "\n",
        "import gymnasium as gym\n",
        "\n",
        "# no es posible mostrar videos de ejecución del agente desde Colab\n",
        "if not IN_COLAB:\n",
        "\n",
        "    env = gym.make('CartPole-v0')\n",
        "    env.reset()\n",
        "    env.render()\n",
        "\n",
        "    for _ in range(500):\n",
        "        env.render()\n",
        "        # se ejecuta una acción aleatoria\n",
        "        obs, reward, terminated, truncated, info = env.step(\n",
        "           env.action_space.sample())\n",
        "\n",
        "        done = terminated or truncated\n",
        "        if done:\n",
        "            env.reset()\n",
        "    env.close()\n",
        "    clear_output()"
      ]
    },
    {
      "cell_type": "markdown",
      "metadata": {
        "id": "UQ_A87JtGS43"
      },
      "source": [
        "Ejemplo: agente Mountain Car"
      ]
    },
    {
      "cell_type": "code",
      "execution_count": 387,
      "metadata": {
        "id": "QHDTjlpEGS43"
      },
      "outputs": [],
      "source": [
        "if not IN_COLAB:\n",
        "    env = gym.make('MountainCar-v0')\n",
        "    obs = env.reset()\n",
        "    for t in range(500):\n",
        "        env.render()\n",
        "        action = env.action_space.sample()\n",
        "        obs, reward, terminated, truncated, info = env.step(action)\n",
        "        if done:\n",
        "            print(\"Episode finished after {} timesteps\".format(t+1))\n",
        "            break\n",
        "    env.close()\n",
        "    clear_output()"
      ]
    },
    {
      "cell_type": "markdown",
      "metadata": {
        "id": "NrdYut6HGS44"
      },
      "source": [
        "## Ejemplo 1: The Cliff.\n"
      ]
    },
    {
      "cell_type": "markdown",
      "metadata": {
        "id": "P6bNIHCQGS44"
      },
      "source": [
        "![](https://github.com/GIDISIA/RLDiplodatos/blob/master/images/cliffwalking.png?raw=1)\n",
        "\n",
        "donde S= starting point, G= goal\n",
        "\n",
        "(imagen de Sutton y Barto, 2018)"
      ]
    },
    {
      "cell_type": "markdown",
      "metadata": {
        "id": "VYvKmWcsGS44"
      },
      "source": [
        "Descripción del entorno:\n",
        "\n",
        "Acciones:\n",
        "\n",
        "* $\\uparrow$ - Arriba\n",
        "* $\\downarrow$ - Abajo\n",
        "* $\\rightarrow$ - Derecha\n",
        "* $\\leftarrow$ - Izquierda\n",
        "\n",
        "Función de recompensa:\n",
        "\n",
        "* $-1$ en todos los demás estados\n",
        "* $-100$ en el acantilado\n",
        "\n",
        "Nota: caer en el acantilado devuelve al agente al estado inicial en un mismo episodio"
      ]
    },
    {
      "cell_type": "markdown",
      "metadata": {
        "id": "XZ2D3hokGS44"
      },
      "source": [
        "Vemos los bloques básicos de nuestro agente"
      ]
    },
    {
      "cell_type": "markdown",
      "metadata": {
        "id": "yKgvYRiOGS44"
      },
      "source": [
        "Definimos el método de elección de acciones. En este caso el mismo utiliza la política de exploración $\\epsilon$-greedy."
      ]
    },
    {
      "cell_type": "code",
      "execution_count": 388,
      "metadata": {
        "id": "T8XHFSZiGS44"
      },
      "outputs": [],
      "source": [
        "def choose_action_e_greedy(\n",
        "        state: int,\n",
        "        actions: range,\n",
        "        q: dict,\n",
        "        hyperparameters: dict,\n",
        "        random_state: np.random.RandomState,\n",
        ") -> int:\n",
        "    \"\"\"\n",
        "    Elije una acción de acuerdo al aprendizaje realizado previamente\n",
        "    usando una política de exploración épsilon-greedy\n",
        "    \"\"\"\n",
        "    # ej: para 4 acciones inicializa en [0,0,0,0]\n",
        "    q_values = [q.get((state, a), 0.0) for a in actions]\n",
        "    max_q = max(q_values)\n",
        "    # sorteamos un número: es menor a épsilon?\n",
        "    if random_state.uniform() < hyperparameters['epsilon']:\n",
        "        # sí: se selecciona una acción aleatoria\n",
        "        return random_state.choice(actions)\n",
        "\n",
        "    count = q_values.count(max_q)\n",
        "\n",
        "    # hay más de un máximo valor de estado-acción?\n",
        "    if count > 1:\n",
        "        # sí: seleccionamos uno de ellos aleatoriamente\n",
        "        best = [i for i in range(len(actions)) if q_values[i] == max_q]\n",
        "        i = random_state.choice(best)\n",
        "    else:\n",
        "        # no: seleccionamos el máximo valor de estado-acción\n",
        "        i = q_values.index(max_q)\n",
        "\n",
        "    return actions[i]"
      ]
    },
    {
      "cell_type": "markdown",
      "metadata": {
        "tags": [],
        "id": "Lk2_GajBr15g"
      },
      "source": [
        "Implementamos la politica Softmax, para cada acción $a$, $$\\pi(a \\mid s) = \\frac{e^{Q(s,a)/\\tau}}{\\sum_{\\widetilde{a} \\in A}e^{Q(s,\\widetilde{a})/\\tau}}$$"
      ]
    },
    {
      "cell_type": "code",
      "source": [
        "import math"
      ],
      "metadata": {
        "id": "1dGOkSUL4Hrx"
      },
      "execution_count": 389,
      "outputs": []
    },
    {
      "cell_type": "code",
      "execution_count": 390,
      "metadata": {
        "id": "tDGO_qGWyO0W"
      },
      "outputs": [],
      "source": [
        "def choose_action_softmax(\n",
        "        state: int,\n",
        "        actions: range,\n",
        "        q: dict,\n",
        "        hyperparameters: dict,\n",
        "        random_state: np.random.RandomState,\n",
        ") -> int:\n",
        "    \"\"\"\n",
        "    Elije una acción de acuerdo al aprendizaje realizado previamente\n",
        "    usando una política softmax\n",
        "    \"\"\"\n",
        "\n",
        "    # TODO: implementar\n",
        "    # ej: para 4 acciones inicializa en [0,0,0,0]\n",
        "    q_values = [q.get((state, a), 0.0) for a in actions]\n",
        "    max_q = max(q_values)\n",
        "    probs = [math.exp(q_value / hyperparameters['tau']) for q_value in q_values]\n",
        "    probs = [prob / sum(probs) for prob in probs]\n",
        "    return random_state.choice(actions, p=probs)"
      ]
    },
    {
      "cell_type": "markdown",
      "metadata": {
        "id": "fH6yG3UNGS45"
      },
      "source": [
        "Definimos el esqueleto del método learn, el cuál toma una transición y cambia el dict de los valores de Q de acuerdo a algún algoritmo."
      ]
    },
    {
      "cell_type": "markdown",
      "metadata": {
        "tags": [],
        "id": "gNw6jNm5vG4F"
      },
      "source": [
        "* Actualización por SARSA (on-policy).\n",
        "\n",
        "$$Q(s,a) \\gets Q(s,a) + \\alpha (r + \\gamma Q(s',a') - Q(s,a))$$\n"
      ]
    },
    {
      "cell_type": "code",
      "execution_count": 391,
      "metadata": {
        "id": "5RgIJcbGGS45"
      },
      "outputs": [],
      "source": [
        "def learn_SARSA(\n",
        "        q: dict,\n",
        "        hyperparameters: dict,\n",
        "        state: int, # COMPLETAR tipo de cada parámetro\n",
        "        action: int,\n",
        "        reward: int,\n",
        "        next_state: int,\n",
        "        next_action: int\n",
        ") -> None:\n",
        "    \"\"\"\n",
        "    Realiza una actualización según el algoritmo SARSA, para una transición\n",
        "    de estado dada\n",
        "    Args:\n",
        "        state: Integer\n",
        "        action: Integer\n",
        "        reward: Integer\n",
        "        next_state: Integer\n",
        "        next_action: Integer\n",
        "    \"\"\"\n",
        "    if (state, action) not in q:\n",
        "        q[state, action] = 0  # Inicializa en 0 si no existe\n",
        "\n",
        "    if (next_state, next_action) not in q:\n",
        "        q[next_state, next_action] = 0  # Inicializa en 0 si no existe\n",
        "\n",
        "    q[state,action] += hyperparameters['alpha'] * (reward + hyperparameters['gamma'] * q[next_state, next_action] - q[state, action])"
      ]
    },
    {
      "cell_type": "markdown",
      "metadata": {
        "tags": [],
        "id": "VY_b7oF2xG1M"
      },
      "source": [
        "* Actualización por Q-Learning (off-policy)\n",
        "\n",
        "$$Q(s,a) \\gets Q(s,a) + \\alpha (r + \\gamma \\arg\\max_{a'} Q(s',a') - Q(s,a))$$\n"
      ]
    },
    {
      "cell_type": "code",
      "execution_count": 392,
      "metadata": {
        "id": "ilHnd2pOyO0X"
      },
      "outputs": [],
      "source": [
        "# completar argumentos de la función para hacer una actualización Q-learning\n",
        "def learn_Q_learning(\n",
        "        q: dict,\n",
        "        hyperparameters: dict,\n",
        "        state: int,\n",
        "        action: int,\n",
        "        reward: int,\n",
        "        next_state: int,\n",
        "        next_action: int\n",
        ") -> None:\n",
        "    \"\"\"\n",
        "    Realiza una actualización según el algoritmo Q-learning, para una transición\n",
        "    de estado dada\n",
        "    Args:\n",
        "        state: Integer\n",
        "        action: Integer\n",
        "        reward: Integer\n",
        "        next_state: Integer\n",
        "        next_action: Integer\n",
        "    \"\"\"\n",
        "\n",
        "    # TODO - completa con tu código aquí\n",
        "    if (state, action) not in q:\n",
        "        q[state, action] = 0  # Inicializa en 0 si no existe\n",
        "\n",
        "    if (next_state, next_action) not in q:\n",
        "        q[next_state, next_action] = 0  # Inicializa en 0 si no existe\n",
        "\n",
        "\n",
        "    q[state,action] += hyperparameters['alpha'] * (reward + hyperparameters['gamma'] * max(q.get((next_state, a), 0) for a in actions) - q[state, action])"
      ]
    },
    {
      "cell_type": "markdown",
      "metadata": {
        "id": "9xrOq-6jGS45"
      },
      "source": [
        "Finalmente, definimos el método principal de iteraciones."
      ]
    },
    {
      "cell_type": "code",
      "execution_count": 393,
      "metadata": {
        "id": "EatmEq8XGS45"
      },
      "outputs": [],
      "source": [
        "def run(\n",
        "    learning_function: Callable,\n",
        "    hyperparameters: dict,\n",
        "    episodes_to_run: int,\n",
        "    env: gym.Env,\n",
        "    actions: range,\n",
        "    q: dict,\n",
        "    random_state: np.random.RandomState,\n",
        ") -> Tuple[float, np.ndarray, np.ndarray]:\n",
        "    \"\"\"\n",
        "    Corre el algoritmo de RL para el ambiente FrozenLake-v0.\n",
        "    Args:\n",
        "        learning_function: función de actualización de algoritmo de aprendizaje\n",
        "        hyperparameters: hiperparámetros del algoritmo de aprendizaje\n",
        "        episodes_to_run: cantidad de episodios a ejecutar\n",
        "        env: ambiente de Gymnasium\n",
        "        actions: lista de acciones posibles\n",
        "        q: diccionario de valores de estado-acción\n",
        "        random_state: generador de números aleatorios\n",
        "    \"\"\"\n",
        "    # registro de la cantidad de pasos que le llevó en cada episodio\n",
        "    # llegar a la salida\n",
        "    timesteps_of_episode = []\n",
        "    # cantidad de recompensa que recibió el agente en cada episodio\n",
        "    reward_of_episode = []\n",
        "\n",
        "    for _ in range(episodes_to_run):\n",
        "        # se ejecuta una instancia del agente hasta que el mismo\n",
        "        # llega a la salida o tarda más de 2000 pasos\n",
        "\n",
        "        # reinicia el ambiente, obteniendo el estado inicial del mismo\n",
        "        state, _ = env.reset()\n",
        "\n",
        "        episode_reward = 0\n",
        "        done = False\n",
        "        t = 0\n",
        "\n",
        "        # elige una acción basado en el estado actual.\n",
        "        # Filtra el primer elemento de state, que es el estado en sí mismo\n",
        "        action = choose_action_softmax(\n",
        "            state, actions, q, hyperparameters, random_state)\n",
        "\n",
        "        while not done:\n",
        "            # el agente ejecuta la acción elegida y obtiene los resultados\n",
        "            next_state, reward, terminated, truncated, _ = env.step(action)\n",
        "\n",
        "            next_action = choose_action_softmax(\n",
        "                next_state, actions, q, hyperparameters, random_state)\n",
        "\n",
        "            episode_reward += reward\n",
        "            learning_function(q,hyperparameters,state, action, reward, next_state, next_action)\n",
        "\n",
        "            done = terminated or truncated\n",
        "\n",
        "            # if the algorithm does not converge, it stops after 2000 timesteps\n",
        "            if not done and t < 2000:\n",
        "                state = next_state\n",
        "                action = next_action\n",
        "            else:\n",
        "                # el algoritmo no ha podido llegar a la meta antes de dar 2000 pasos\n",
        "                done = True  # se establece manualmente la bandera done\n",
        "                timesteps_of_episode = np.append(timesteps_of_episode, [int(t + 1)])\n",
        "                reward_of_episode = np.append(\n",
        "                    reward_of_episode, max(episode_reward, -100)\n",
        "                )\n",
        "\n",
        "            t += 1\n",
        "\n",
        "    return reward_of_episode.mean(), timesteps_of_episode, reward_of_episode"
      ]
    },
    {
      "cell_type": "markdown",
      "metadata": {
        "id": "YQqcI9RTGS46"
      },
      "source": [
        "Definidos los métodos básicos, procedemos a instanciar a nuestro agente."
      ]
    },
    {
      "cell_type": "code",
      "execution_count": 394,
      "metadata": {
        "id": "JWE7qhNvGS46"
      },
      "outputs": [],
      "source": [
        "# se crea el diccionario que contendrá los valores de Q\n",
        "# para cada tupla (estado, acción)\n",
        "q = {}\n",
        "\n",
        "# definimos sus híper-parámetros básicos\n",
        "hyperparameters = {\n",
        "    \"alpha\": 0.5,\n",
        "    \"gamma\": 1,\n",
        "    \"epsilon\": 0.2,\n",
        "    \"tau\": 2,\n",
        "}\n",
        "\n",
        "\n",
        "# se puede cambiar por learn_Q_learning, una vez que se implemente\n",
        "learning_function = learn_SARSA\n",
        "episodes_to_run = 500\n",
        "\n",
        "env = gym.make(\"CliffWalking-v0\")\n",
        "actions = range(env.action_space.n)\n",
        "\n",
        "# se declara una semilla aleatoria\n",
        "random_state = np.random.RandomState(42)"
      ]
    },
    {
      "cell_type": "markdown",
      "metadata": {
        "id": "3nBgpEltGS47"
      },
      "source": [
        "Ya instanciado, ejecutamos nuestro agente"
      ]
    },
    {
      "cell_type": "code",
      "execution_count": 395,
      "metadata": {
        "id": "r_Y6EMN3GS47"
      },
      "outputs": [],
      "source": [
        "avg_steps_per_episode, timesteps_ep, reward_ep = run(\n",
        "    learning_function,\n",
        "    hyperparameters,\n",
        "    episodes_to_run,\n",
        "    env,\n",
        "    actions,\n",
        "    q,\n",
        "    random_state\n",
        ")"
      ]
    },
    {
      "cell_type": "markdown",
      "metadata": {
        "id": "LgNpJUV9GS47"
      },
      "source": [
        "### Análisis de la ejecución del agente\n",
        "\n",
        "#### Análisis de convergencia\n",
        "\n",
        "A diferencia de lo que sucede en el aprendizaje supervisado, en el aprendizaje por refuerzos el rendimiento se evalúa por una función específica que es la función de recompensa. En la práctica, la función de recompensa puede ser externa (y provista por el entorno) o bien puede ser una función creada por diseño (a modo de dirigir el agente hacia lo que por diseño se considera mejor, en nuestro ejemplo podría ser con una recompensa de $+1$ cada vez que el agente llega al estado objetivo). Esto se conoce como *reward shaping*, y hay que tener mucho cuidado con los posibles efectos secundarios de su uso.\n",
        "\n",
        "Como el objetivo de RL es maximizar la recompensa obtenida, es posible utilizar la información sobre la obtención de la recompensas en cada time-step o episodio para evaluar el rendimiento parcial del agente (esto depende mucho de la particularidad de la distribución de la recompensa para el problema tratado)."
      ]
    },
    {
      "cell_type": "markdown",
      "metadata": {
        "id": "yiciXUMeGS47"
      },
      "source": [
        "Para analizar la ejecución del agente, vamos a ver cómo se desempeñó el mismo en dos curvas:\n",
        "\n",
        "* Recompensa obtenida en cada episodio: nos dirá cuánta recompensa obtuvo el agente sumando cada una de recompensas individuales de cada episodio. Con esta medida podremos tener una noción de cómo se desempeñó esquivando el acantilado y llegando lo antes posible a la meta.\n",
        "\n",
        "* Pasos transcurridos en cada episodio: indicará cuántos pasos le ha llevado al agente la ejecución del episodio.\n",
        "\n",
        "Se estila suavizar ambas curvas para apreciar mejor su progresión (aunque a veces suele analizarse la curva de pasos por episodio sin suavizar)."
      ]
    },
    {
      "cell_type": "markdown",
      "metadata": {
        "id": "QQKMwQ2mGS47"
      },
      "source": [
        "Veamos recompensa por episodio (recordar que en este entorno cada paso otorga una recompensa de $-1$ excepto al caer al acantilado, donde la recompensa es de $-100$)"
      ]
    },
    {
      "cell_type": "code",
      "execution_count": 396,
      "metadata": {
        "colab": {
          "base_uri": "https://localhost:8080/",
          "height": 452
        },
        "id": "SsDunXlHGS47",
        "outputId": "bddd1f81-d2a2-4a4c-ea30-b50591f1379d"
      },
      "outputs": [
        {
          "output_type": "display_data",
          "data": {
            "text/plain": [
              "<Figure size 640x480 with 1 Axes>"
            ],
            "image/png": "[encoded data removed]"
          },
          "metadata": {}
        }
      ],
      "source": [
        "plot_reward_per_episode(reward_ep)"
      ]
    },
    {
      "cell_type": "markdown",
      "metadata": {
        "id": "EjznrgIeGS48"
      },
      "source": [
        "Veamos pasos por episodio"
      ]
    },
    {
      "cell_type": "code",
      "execution_count": 397,
      "metadata": {
        "colab": {
          "base_uri": "https://localhost:8080/",
          "height": 452
        },
        "id": "7AaVw7EEGS48",
        "outputId": "340aa470-e2c5-4751-f80a-d3e96a52e6a1"
      },
      "outputs": [
        {
          "output_type": "display_data",
          "data": {
            "text/plain": [
              "<Figure size 640x480 with 1 Axes>"
            ],
            "image/png": "[encoded data removed]"
          },
          "metadata": {}
        }
      ],
      "source": [
        "plot_steps_per_episode(timesteps_ep)"
      ]
    },
    {
      "cell_type": "markdown",
      "metadata": {
        "id": "_BB8NDDhGS49"
      },
      "source": [
        "Suavizando..."
      ]
    },
    {
      "cell_type": "code",
      "execution_count": 398,
      "metadata": {
        "colab": {
          "base_uri": "https://localhost:8080/",
          "height": 452
        },
        "id": "NaAXjfdKGS49",
        "outputId": "d2099e3b-8a25-493c-f6f1-f26f3bd17c18"
      },
      "outputs": [
        {
          "output_type": "display_data",
          "data": {
            "text/plain": [
              "<Figure size 640x480 with 1 Axes>"
            ],
            "image/png": "[encoded data removed]"
          },
          "metadata": {}
        }
      ],
      "source": [
        "plot_steps_per_episode_smooth(timesteps_ep)"
      ]
    },
    {
      "cell_type": "markdown",
      "metadata": {
        "id": "QI7pxgtoGS49"
      },
      "source": [
        "#### Análisis de matriz de acción-valor y política óptima\n",
        "\n",
        "Siendo que este es un ejemplo tabular y de pocos estados / acciones, es posible realizar un análisis de convergencia desde otro punto de vista: desde el valor de la función $Q(s,a)$ para la mejor acción de cada estado, al finalizar el entrenamiento del agente, (sería la acción que el agente ejecutaría en cada estado bajo una política *greedy*). Ambos nos brindarán información sobre la convergencia alcanzada por el agente.\n",
        "\n",
        "Tener en cuenta que este análisis se hace principalmente con fines educativos, para entornos más complejos el mismo puede no ser factible. En tales casos, un análisis alternativo podría consistir en hacer que el agente ejecute su política para la que fue entrenado, para hacer una evaluación a partir del comportamiento del mismo (esto último sería el *test de la política*, frente al *entrenamiento de la política* previo)."
      ]
    },
    {
      "cell_type": "code",
      "execution_count": 399,
      "metadata": {
        "colab": {
          "base_uri": "https://localhost:8080/",
          "height": 772
        },
        "id": "rMpKRT2NGS4-",
        "outputId": "1f66a620-a73d-47c6-b6b8-21926172027c"
      },
      "outputs": [
        {
          "output_type": "display_data",
          "data": {
            "text/plain": [
              "<Figure size 640x480 with 2 Axes>"
            ],
            "image/png": "[encoded data removed]"
          },
          "metadata": {}
        },
        {
          "output_type": "stream",
          "name": "stdout",
          "text": [
            "\n",
            " Matriz de mejor acción-valor (en números): \n",
            "\n",
            " [[ -24.69389247  -21.68095819  -19.67759267  -17.66333953  -17.48826487\n",
            "   -13.8677801   -14.05431071  -13.2195779   -10.18600914   -7.99372316\n",
            "    -6.85573194   -7.65950488]\n",
            " [ -23.46537651  -18.36192249  -19.94221972  -15.73415694  -12.64919325\n",
            "   -10.5251472   -10.4584366    -9.87040607   -9.30099345   -7.36902884\n",
            "    -5.07895393   -2.93535811]\n",
            " [ -17.31385787  -17.36416417  -16.22952853  -13.8840089   -12.92145953\n",
            "    -8.88118522   -7.58802022   -6.0869369    -4.86567837   -3.65965838\n",
            "    -2.2015579    -1.        ]\n",
            " [ -18.39194255 -100.         -100.         -100.         -100.\n",
            "  -100.         -100.         -100.         -100.         -100.\n",
            "  -100.           -1.        ]]\n"
          ]
        }
      ],
      "source": [
        "draw_value_matrix(q)"
      ]
    },
    {
      "cell_type": "code",
      "execution_count": 400,
      "metadata": {
        "id": "ce50gtxcGS4-"
      },
      "outputs": [],
      "source": [
        "env.close()"
      ]
    },
    {
      "cell_type": "markdown",
      "metadata": {
        "id": "9VQRIwfLGS4-",
        "tags": []
      },
      "source": [
        "## Actividades\n",
        "\n",
        "1. Implementar y ejecutar el algoritmo SARSA en \"The Cliff\".\n",
        "\n",
        "2. Implementar y ejecutar el algoritmo Q-Learning en \"The Cliff\". ¿Cómo converge con respecto a SARSA? ¿A qué se debe? Comentar.\n",
        "\n",
        "3. Ejecutando con distintos híper-parámetros, realizar una breve descripción sobre cómo afectan a la convergencia los distintos valores de $\\alpha$, $\\epsilon$ y $\\gamma$.\n",
        "\n",
        "4. (Opcional) Implementar política de exploración Softmax, en donde cada acción tiene una probabilidad $$\\pi(a \\mid s) = \\frac{e^{Q(s,a)/\\tau}}{\\sum_{\\widetilde{a} \\in A}e^{Q(s,\\widetilde{a})/\\tau}}$$\n",
        "\n",
        "5. (Opcional) Implementar Dyna-Q a partir del algoritmo Q-Learning, incorporando una actualización mediante un modelo. Comentar cómo se desempeña respecto a los demás algoritmos.\n",
        "\n",
        "\n",
        "Para dejar el lab listo para su corrección, dejar link a repo de Github con un notebook ejecutando el agente en la planilla enviada en Slack."
      ]
    },
    {
      "cell_type": "markdown",
      "source": [
        "## 2 Comparando learn_SARSA y learn_q_max"
      ],
      "metadata": {
        "id": "DtebuFMxIkbT"
      }
    },
    {
      "cell_type": "markdown",
      "source": [
        "El siguiente analisis es con los hiperparametros dados por defecto\n",
        "\n",
        "    \"alpha\": 0.5,\n",
        "    \n",
        "    \"gamma\": 1,\n",
        "    \n",
        "    \"epsilon\": 0.1,\n",
        "\n"
      ],
      "metadata": {
        "id": "SA4ArUv5FAjV"
      }
    },
    {
      "cell_type": "markdown",
      "source": [
        "Lo que podemos observar de las curvas de recompenza por episodio es que con SARSA converge a recompenzas cercanas a -30 pero Q-learning solo a recompenzas en torno a -40."
      ],
      "metadata": {
        "id": "sMQ2bAOEHsgO"
      }
    },
    {
      "cell_type": "markdown",
      "source": [
        "\n",
        "Contradiciendo al gráfico, la solución de learn_q_max es mucho mejor que la de learn_SARSA. Esto podía ser esperable, ya que no asumimos ninguna política para encontrar la solución."
      ],
      "metadata": {
        "id": "y2ATULNrIL1y"
      }
    },
    {
      "cell_type": "markdown",
      "source": [
        "learn_SARSA\n",
        "\n",
        "![imagen_2024-11-24_183427864.png](data:image/png;base64,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)"
      ],
      "metadata": {
        "id": "IbITKIP9FEZG"
      }
    },
    {
      "cell_type": "markdown",
      "source": [
        "learn_q_max\n",
        "\n",
        "![imagen_2024-11-24_182631849.png](data:image/png;base64,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)\n"
      ],
      "metadata": {
        "id": "IkbEgQTxEHfY"
      }
    },
    {
      "cell_type": "markdown",
      "source": [
        "## 3 Exploracion de hiperparametros SARSA\n",
        "### Caso extremo:\n",
        "\n",
        "\"alpha\": 0.1,\n",
        "\n",
        "\"gamma\": 0,\n",
        "\n",
        "\"epsilon\": 0,\n",
        "\n",
        "Con este caso extremo, el algoritmo no converge para nada. Al variar los valores de alpha, el algoritmo sigue sin converger. Se fijó alpha = 0.5, donde ya sabíamos que convergía, y se movió epsilon, pero los resultados seguían sin mejorar. Esto muestra que, en este caso, el factor gamma es crucial, debido a su importancia al considerar recompensas futuras.\n",
        "\n",
        "### Caso exploratorio:\n",
        "\"alpha\": 0.1,\n",
        "\"gamma\": 1,\n",
        "\"epsilon\": 1,\n",
        "Este es un caso donde exploramos siempre, pero tampoco dio buenos resultados.\n",
        "\n",
        "### Exploración de hiperparámetros:\n",
        "Se realizó una exploración perturbando ligeramente los valores de los hiperparámetros, pero no se obtuvieron mejores resultados que los anteriores.\n",
        "\n",
        "Conclusión\n",
        "Los hiperparámetros dados por defecto habían obtenido una solución bastante buena. Sin embargo, deberíamos verificar esto con una búsqueda en grill."
      ],
      "metadata": {
        "id": "pMe6bdZPJxZA"
      }
    },
    {
      "cell_type": "markdown",
      "source": [
        "## 4 Exploracion softmax\n",
        "\n",
        "En este caso, con los parámetros por defecto y learn_SARSA:\n",
        "\n",
        "- alpha: 0.1\n",
        "- gamma: 1\n",
        "- epsilon: 1\n",
        "- tau: 2\n",
        "\n",
        "Se obtuvieron malos resultados. Sin embargo, tras experimentar un poco, se concluyó que utilizando tau = 2 se alcanzaron los mejores resultados. El gráfico converge en torno a -30 y, además, la solución es la misma que la de learn_q_max."
      ],
      "metadata": {
        "id": "E-d-YE--EWBf"
      }
    },
    {
      "cell_type": "markdown",
      "metadata": {
        "id": "EjITu5NIyO0b"
      },
      "source": [
        "FIN"
      ]
    }
  ],
  "metadata": {
    "celltoolbar": "Edit Metadata",
    "colab": {
      "provenance": []
    },
    "kernelspec": {
      "display_name": "aprendizajeporrefuerzos-7kOLcKCl-py3.9",
      "language": "python",
      "name": "python3"
    },
    "language_info": {
      "codemirror_mode": {
        "name": "ipython",
        "version": 3
      },
      "file_extension": ".py",
      "mimetype": "text/x-python",
      "name": "python",
      "nbconvert_exporter": "python",
      "pygments_lexer": "ipython3",
      "version": "3.9.13"
    }
  },
  "nbformat": 4,
  "nbformat_minor": 0
}